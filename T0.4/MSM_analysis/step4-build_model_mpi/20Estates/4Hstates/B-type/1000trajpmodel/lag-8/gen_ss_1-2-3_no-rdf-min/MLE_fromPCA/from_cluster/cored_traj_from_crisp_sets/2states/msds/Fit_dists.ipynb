{
 "cells": [
  {
   "cell_type": "markdown",
   "metadata": {},
   "source": [
    "CG MSM from \"primitive clustering\" along rama-plot\n",
    "===="
   ]
  },
  {
   "cell_type": "code",
   "execution_count": 1,
   "metadata": {
    "collapsed": false
   },
   "outputs": [
    {
     "data": {
      "text/plain": [
       "'2.1.1'"
      ]
     },
     "execution_count": 1,
     "metadata": {},
     "output_type": "execute_result"
    }
   ],
   "source": [
    "import pyemma\n",
    "pyemma.__version__"
   ]
  },
  {
   "cell_type": "code",
   "execution_count": 2,
   "metadata": {
    "collapsed": false
   },
   "outputs": [
    {
     "name": "stdout",
     "output_type": "stream",
     "text": [
      "Populating the interactive namespace from numpy and matplotlib\n"
     ]
    }
   ],
   "source": [
    "import os\n",
    "%pylab inline\n",
    "matplotlib.rcParams.update({'font.size': 12})"
   ]
  },
  {
   "cell_type": "code",
   "execution_count": 3,
   "metadata": {
    "collapsed": false
   },
   "outputs": [
    {
     "name": "stderr",
     "output_type": "stream",
     "text": [
      "/home/theorie/rudzinski/soft/anaconda/envs/PyEmma-new/lib/python2.7/site-packages/sklearn/cross_validation.py:41: DeprecationWarning: This module was deprecated in version 0.18 in favor of the model_selection module into which all the refactored classes and functions are moved. Also note that the interface of the new CV iterators are different from that of this module. This module will be removed in 0.20.\n",
      "  \"This module will be removed in 0.20.\", DeprecationWarning)\n",
      "/home/theorie/rudzinski/soft/anaconda/envs/PyEmma-new/lib/python2.7/site-packages/sklearn/grid_search.py:42: DeprecationWarning: This module was deprecated in version 0.18 in favor of the model_selection module into which all the refactored classes and functions are moved. This module will be removed in 0.20.\n",
      "  DeprecationWarning)\n"
     ]
    }
   ],
   "source": [
    "import pyemma.coordinates as coor\n",
    "import pyemma.msm as msm\n",
    "import pyemma.plots as mplt\n",
    "import msmbuilder\n",
    "from msmbuilder.msm.ratematrix import ContinuousTimeMSM\n",
    "import scipy\n",
    "from msmtools.analysis.dense.decomposition import eigenvectors, eigenvalues\n",
    "import operator\n",
    "from scipy.optimize import curve_fit"
   ]
  },
  {
   "cell_type": "markdown",
   "metadata": {
    "collapsed": true
   },
   "source": [
    "Get the MSM\n",
    "------"
   ]
  },
  {
   "cell_type": "code",
   "execution_count": 4,
   "metadata": {
    "collapsed": false
   },
   "outputs": [],
   "source": [
    "dtraj = np.load('dtraj_mss_2states_cored.npy')\n",
    "dtrajs = []\n",
    "for traj in range(dtraj.shape[0]):\n",
    "    dtrajs.append( dtraj[traj] )\n",
    "\n",
    "tica_lag = np.load('../../../../../TICA/tica_lag.npy')\n",
    "tica_dim = np.load('../../../../../TICA/tica_dim.npy')\n",
    "clust_dim = np.load('../../../../../TICA/clust_dim.npy')\n",
    "nclust_max = np.load('../../../../../TICA/nclust_max.npy')\n",
    "nclust = 509 # np.load('../../../TICA/nclust.npy')\n",
    "Nprune = np.load('../../../../../TICA/Nprune.npy')"
   ]
  },
  {
   "cell_type": "code",
   "execution_count": 5,
   "metadata": {
    "collapsed": false
   },
   "outputs": [
    {
     "name": "stdout",
     "output_type": "stream",
     "text": [
      "[  2   4   6   8  10  12  14  16  18  20  22  24  26  28  30  32  34  36\n",
      "  38  40  42  44  46  48  50  52  54  56  58  60  62  64  66  68  70  72\n",
      "  74  76  78  80  82  84  86  88  90  92  94  96  98 100 102 104 106 108\n",
      " 110 112 114 116 118 120 122 124 126 128 130 132 134 136 138 140 142 144\n",
      " 146 148 150 152 154 156 158 160 162 164 166 168 170 172 174 176 178 180\n",
      " 182 184 186 188 190 192 194 196 198 200]\n",
      "30-07-18 10:39:14 pyemma.msm.estimators.implied_timescales.ImpliedTimescales[0] WARNING  Changed user setting nits to the number of available timescales nits=1\n"
     ]
    }
   ],
   "source": [
    "lags = tica_lag*np.linspace(1,100,100,dtype=int)\n",
    "#core_lag = 16\n",
    "#lags = core_lag*lags\n",
    "#lags = np.linspace(tica_lag,8*tica_lag,tica_lag,dtype=int)\n",
    "print lags\n",
    "its_full = msm.timescales_msm(dtrajs, lags=lags, nits=3)"
   ]
  },
  {
   "cell_type": "code",
   "execution_count": 13,
   "metadata": {
    "collapsed": false
   },
   "outputs": [
    {
     "data": {
      "text/plain": [
       "[<matplotlib.lines.Line2D at 0x7fe158dbf590>]"
      ]
     },
     "execution_count": 13,
     "metadata": {},
     "output_type": "execute_result"
    },
    {
     "data": {
      "image/png": "[encoded data removed]",
      "text/plain": [
       "<matplotlib.figure.Figure at 0x7fe158dbfcd0>"
      ]
     },
     "metadata": {},
     "output_type": "display_data"
    }
   ],
   "source": [
    "plt.plot(lags,its_full.timescales)\n",
    "# plt.ylim([100,160])\n",
    "plt.plot(42*np.ones(2),np.arange(2)*10+190)"
   ]
  },
  {
   "cell_type": "code",
   "execution_count": null,
   "metadata": {
    "collapsed": false
   },
   "outputs": [],
   "source": []
  },
  {
   "cell_type": "code",
   "execution_count": 14,
   "metadata": {
    "collapsed": false
   },
   "outputs": [
    {
     "name": "stdout",
     "output_type": "stream",
     "text": [
      "42\n"
     ]
    }
   ],
   "source": [
    "lag_ind = 20\n",
    "print its_full.lags[lag_ind]\n",
    "Tmle = its_full.models[lag_ind].transition_matrix\n",
    "mu = its_full.models[lag_ind].stationary_distribution"
   ]
  },
  {
   "cell_type": "code",
   "execution_count": 15,
   "metadata": {
    "collapsed": false
   },
   "outputs": [
    {
     "data": {
      "text/plain": [
       "[<matplotlib.lines.Line2D at 0x7fe158b502d0>]"
      ]
     },
     "execution_count": 15,
     "metadata": {},
     "output_type": "execute_result"
    },
    {
     "data": {
      "image/png": "[encoded data removed]",
      "text/plain": [
       "<matplotlib.figure.Figure at 0x7fe158c59dd0>"
      ]
     },
     "metadata": {},
     "output_type": "display_data"
    }
   ],
   "source": [
    "#plt.pcolor(its_full.models[0].transition_matrix)\n",
    "#plt.hist(dtraj[0])\n",
    "plt.plot(dtraj[0])"
   ]
  },
  {
   "cell_type": "markdown",
   "metadata": {
    "collapsed": true
   },
   "source": [
    "Get the dists\n",
    "------"
   ]
  },
  {
   "cell_type": "code",
   "execution_count": 16,
   "metadata": {
    "collapsed": false
   },
   "outputs": [],
   "source": [
    "msd_proc = np.load('msd_mss_trajs_all.npy')\n",
    "Nproc = msd_proc.shape[0]\n",
    "#Ntraj = 1000\n",
    "Nmss = msd_proc.shape[1]\n",
    "wait_time_proc = np.load('wait_time_trajs_all.npy')\n",
    "#for proc in range(Nproc):\n",
    "#    trajs = np.split(np.arange(Nproc*(Ntraj/Nproc+1)),Nproc)[proc]\n",
    "#    trajs = trajs[np.where(trajs<Ntraj)]\n",
    "#    msd_proc.append( np.load('msd_mss_trajs_'+str(trajs[0])+'-'+str(trajs[-1])+'.npy') )\n",
    "#    wait_time_proc.append( np.load('wait_time_trajs_'+str(trajs[0])+'-'+str(trajs[-1])+'.npy') )"
   ]
  },
  {
   "cell_type": "code",
   "execution_count": 17,
   "metadata": {
    "collapsed": false
   },
   "outputs": [],
   "source": [
    "msd = [[[] for x in range(Nmss)] for y in range(Nmss)]\n",
    "wt = [[[] for x in range(Nmss)] for y in range(Nmss)]\n",
    "for proc in range(Nproc):\n",
    "    for imss in range(Nmss):\n",
    "        for jmss in range(Nmss):\n",
    "            for val in msd_proc[proc][imss][jmss]:\n",
    "                msd[imss][jmss].append(val)\n",
    "            for val in wait_time_proc[proc][imss][jmss]:\n",
    "                wt[imss][jmss].append(val)"
   ]
  },
  {
   "cell_type": "code",
   "execution_count": 18,
   "metadata": {
    "collapsed": false
   },
   "outputs": [],
   "source": [
    "msd_hist = [[[] for x in range(Nmss)] for y in range(Nmss)]\n",
    "msd_centers = [[[] for x in range(Nmss)] for y in range(Nmss)]\n",
    "for imss in range(Nmss):\n",
    "    for jmss in range(Nmss):\n",
    "        if imss != jmss:\n",
    "            msd_hist_tmp, msd_edges = np.histogram(msd[imss][jmss],bins=50,normed=1)\n",
    "            msd_hist[imss][jmss] = msd_hist_tmp\n",
    "            msd_centers[imss][jmss] = 0.5*(msd_edges[1:]+msd_edges[:-1]) \n",
    "            \n",
    "wt_hist = [[[] for x in range(Nmss)] for y in range(Nmss)]\n",
    "wt_centers = [[[] for x in range(Nmss)] for y in range(Nmss)]\n",
    "for imss in range(Nmss):\n",
    "    for jmss in range(Nmss):\n",
    "        if imss != jmss:\n",
    "            wt_hist_tmp, wt_edges = np.histogram(wt[imss][jmss],bins=50,normed=1)\n",
    "            wt_hist[imss][jmss] = wt_hist_tmp\n",
    "            wt_centers[imss][jmss] = 0.5*(wt_edges[1:]+wt_edges[:-1])"
   ]
  },
  {
   "cell_type": "code",
   "execution_count": 19,
   "metadata": {
    "collapsed": false
   },
   "outputs": [
    {
     "data": {
      "image/png": "[encoded data removed]",
      "text/plain": [
       "<matplotlib.figure.Figure at 0x7fe158b6ce10>"
      ]
     },
     "metadata": {},
     "output_type": "display_data"
    },
    {
     "data": {
      "image/png": "[encoded data removed]",
      "text/plain": [
       "<matplotlib.figure.Figure at 0x7fe15895abd0>"
      ]
     },
     "metadata": {},
     "output_type": "display_data"
    }
   ],
   "source": [
    "for imss in range(Nmss):\n",
    "    for jmss in range(Nmss):\n",
    "        if imss != jmss:\n",
    "            plt.plot(msd_centers[imss][jmss],msd_hist[imss][jmss])\n",
    "            plt.show()"
   ]
  },
  {
   "cell_type": "code",
   "execution_count": 20,
   "metadata": {
    "collapsed": false
   },
   "outputs": [
    {
     "data": {
      "image/png": "[encoded data removed]",
      "text/plain": [
       "<matplotlib.figure.Figure at 0x7fe1588c3a10>"
      ]
     },
     "metadata": {},
     "output_type": "display_data"
    }
   ],
   "source": [
    "for imss in range(Nmss):\n",
    "    for jmss in range(Nmss):\n",
    "        if imss != jmss:\n",
    "            plt.semilogy(msd_centers[imss][jmss],msd_hist[imss][jmss])\n",
    "plt.show()"
   ]
  },
  {
   "cell_type": "code",
   "execution_count": null,
   "metadata": {
    "collapsed": false
   },
   "outputs": [],
   "source": []
  },
  {
   "cell_type": "code",
   "execution_count": 21,
   "metadata": {
    "collapsed": false
   },
   "outputs": [],
   "source": [
    "def exp_func(x, a, c, d):\n",
    "    return a*np.exp(-c*x)+d"
   ]
  },
  {
   "cell_type": "code",
   "execution_count": 22,
   "metadata": {
    "collapsed": false
   },
   "outputs": [],
   "source": [
    "x_val = [[[] for x in range(Nmss)] for y in range(Nmss)]\n",
    "y_val = [[[] for x in range(Nmss)] for y in range(Nmss)]\n",
    "p0 = (1, 1, 1)\n",
    "y_opt = [[[] for x in range(Nmss)] for y in range(Nmss)]\n",
    "y_cov = [[[] for x in range(Nmss)] for y in range(Nmss)]\n",
    "for imss in range(Nmss):\n",
    "    for jmss in range(Nmss):\n",
    "        if imss != jmss:\n",
    "            x_val[imss][jmss].append( msd_centers[imss][jmss] )\n",
    "            y_val[imss][jmss].append( msd_hist[imss][jmss] )\n",
    "            tmp_opt, tmp_cov = curve_fit(exp_func, x_val[imss][jmss][0], y_val[imss][jmss][0], p0=p0)\n",
    "            y_opt[imss][jmss].append( tmp_opt )\n",
    "            y_cov[imss][jmss].append( tmp_cov )"
   ]
  },
  {
   "cell_type": "code",
   "execution_count": null,
   "metadata": {
    "collapsed": false
   },
   "outputs": [],
   "source": []
  },
  {
   "cell_type": "code",
   "execution_count": 23,
   "metadata": {
    "collapsed": false
   },
   "outputs": [
    {
     "data": {
      "image/png": "[encoded data removed]",
      "text/plain": [
       "<matplotlib.figure.Figure at 0x7fe1585a6590>"
      ]
     },
     "metadata": {},
     "output_type": "display_data"
    }
   ],
   "source": [
    "fig = plt.figure(figsize=(10,6))\n",
    "ax = fig.add_subplot(111)\n",
    "y_opt_vals = [[[] for x in range(Nmss)] for y in range(Nmss)]\n",
    "for imss in range(Nmss):\n",
    "    for jmss in range(Nmss):\n",
    "        if imss != jmss:\n",
    "            label = str(imss)+','+str(jmss)\n",
    "            plt.plot(x_val[imss][jmss][0], y_val[imss][jmss][0],label=label,linewidth=3, color='k')\n",
    "            y_opt_vals[imss][jmss].append( exp_func( x_val[imss][jmss][0], y_opt[imss][jmss][0][0], y_opt[imss][jmss][0][1], y_opt[imss][jmss][0][2] ) )\n",
    "            plt.plot( x_val[imss][jmss][0], y_opt_vals[imss][jmss][0],label=label, linewidth=3, linestyle='--', color='r' )\n",
    "\n",
    "plt.legend()\n",
    "legend = plt.legend(fontsize='20',loc='upper center', bbox_to_anchor=(1.25, 1))\n",
    "# frame = legend.get_frame()\n",
    "# frame.set_linewidth('2.0')\n",
    "# ltext = legend.get_texts()\n",
    "# plt.setp(ltext, fontweight='bold')\n",
    "# plt.xlim([-200,25000])\n",
    "# plt.ylim([0,1.0])"
   ]
  },
  {
   "cell_type": "code",
   "execution_count": 24,
   "metadata": {
    "collapsed": false
   },
   "outputs": [],
   "source": [
    "y_val = np.array(y_val)\n",
    "y_opt_vals = np.array(y_opt_vals)"
   ]
  },
  {
   "cell_type": "code",
   "execution_count": null,
   "metadata": {
    "collapsed": false
   },
   "outputs": [],
   "source": []
  },
  {
   "cell_type": "code",
   "execution_count": 25,
   "metadata": {
    "collapsed": false
   },
   "outputs": [],
   "source": [
    "ss_res = [[0. for x in range(Nmss)] for y in range(Nmss)]\n",
    "ss_tot = [[0. for x in range(Nmss)] for y in range(Nmss)]\n",
    "rsq = [[0. for x in range(Nmss)] for y in range(Nmss)]\n",
    "for imss in range(Nmss):\n",
    "    for jmss in range(Nmss):\n",
    "        if imss != jmss:\n",
    "            ss_res[imss][jmss] = np.sum( (y_val[imss][jmss][0]-y_opt_vals[imss][jmss][0])**2)\n",
    "            ss_tot[imss][jmss] = numpy.sum(( np.subtract( y_val[imss][jmss][0], np.mean(y_val[imss][jmss][0])) )**2)\n",
    "            rsq[imss][jmss] = 1. - ss_res[imss][jmss]/ss_tot[imss][jmss]"
   ]
  },
  {
   "cell_type": "code",
   "execution_count": 26,
   "metadata": {
    "collapsed": false
   },
   "outputs": [
    {
     "data": {
      "text/plain": [
       "[<matplotlib.lines.Line2D at 0x7fe158915a50>]"
      ]
     },
     "execution_count": 26,
     "metadata": {},
     "output_type": "execute_result"
    },
    {
     "data": {
      "image/png": "[encoded data removed]",
      "text/plain": [
       "<matplotlib.figure.Figure at 0x7fe1586e1fd0>"
      ]
     },
     "metadata": {},
     "output_type": "display_data"
    }
   ],
   "source": [
    "fig = plt.figure(figsize=(10,6))\n",
    "ax = fig.add_subplot(111)\n",
    "plt.plot(np.concatenate(rsq),linewidth=3, color='k',marker='x',mew=10)\n",
    "#plt.xticks(np.arange(len(rsq)),labels)\n",
    "#plt.legend()\n",
    "#legend = plt.legend(fontsize='20',loc='upper center', bbox_to_anchor=(1.25, 1))\n",
    "# frame = legend.get_frame()\n",
    "# frame.set_linewidth('2.0')\n",
    "# ltext = legend.get_texts()\n",
    "# plt.setp(ltext, fontweight='bold')\n",
    "#plt.xlim([-200,25000])\n",
    "#plt.ylim([0,1.0])"
   ]
  },
  {
   "cell_type": "code",
   "execution_count": 27,
   "metadata": {
    "collapsed": false
   },
   "outputs": [],
   "source": [
    "# repeat with the wait times"
   ]
  },
  {
   "cell_type": "code",
   "execution_count": 28,
   "metadata": {
    "collapsed": false
   },
   "outputs": [],
   "source": [
    "# wt = [[] for x in range(Nmss)]\n",
    "# for proc in range(Nproc):\n",
    "#     for imss in range(Nmss):\n",
    "#         for val in wait_time_proc[proc][imss]:\n",
    "#             wt[imss].append(val)"
   ]
  },
  {
   "cell_type": "code",
   "execution_count": 29,
   "metadata": {
    "collapsed": false
   },
   "outputs": [],
   "source": [
    "# wt_hist = [[] for x in range(Nmss)]\n",
    "# wt_centers = [[] for x in range(Nmss)]\n",
    "# for imss in range(Nmss):\n",
    "#     wt_hist_tmp, wt_edges = np.histogram(wt[imss],bins=10,normed=1)\n",
    "#     wt_hist[imss] = wt_hist_tmp\n",
    "#     wt_centers[imss] = 0.5*(wt_edges[1:]+wt_edges[:-1]) "
   ]
  },
  {
   "cell_type": "code",
   "execution_count": null,
   "metadata": {
    "collapsed": false
   },
   "outputs": [],
   "source": []
  },
  {
   "cell_type": "code",
   "execution_count": 30,
   "metadata": {
    "collapsed": false
   },
   "outputs": [
    {
     "data": {
      "image/png": "[encoded data removed]",
      "text/plain": [
       "<matplotlib.figure.Figure at 0x7fe1586b5710>"
      ]
     },
     "metadata": {},
     "output_type": "display_data"
    },
    {
     "data": {
      "image/png": "[encoded data removed]",
      "text/plain": [
       "<matplotlib.figure.Figure at 0x7fe158d4bc50>"
      ]
     },
     "metadata": {},
     "output_type": "display_data"
    }
   ],
   "source": [
    "for imss in range(Nmss):\n",
    "    for jmss in range(Nmss):\n",
    "        if imss != jmss:\n",
    "            plt.plot(wt_centers[imss][jmss],wt_hist[imss][jmss])\n",
    "            plt.show()"
   ]
  },
  {
   "cell_type": "code",
   "execution_count": 31,
   "metadata": {
    "collapsed": false
   },
   "outputs": [
    {
     "data": {
      "image/png": "[encoded data removed]",
      "text/plain": [
       "<matplotlib.figure.Figure at 0x7fe1588af750>"
      ]
     },
     "metadata": {},
     "output_type": "display_data"
    }
   ],
   "source": [
    "for imss in range(Nmss):\n",
    "    for jmss in range(Nmss):\n",
    "        if imss != jmss:\n",
    "            plt.loglog(wt_centers[imss][jmss],wt_hist[imss][jmss])\n",
    "plt.show()"
   ]
  },
  {
   "cell_type": "code",
   "execution_count": 32,
   "metadata": {
    "collapsed": false
   },
   "outputs": [],
   "source": [
    "# x_val_wt = [[] for x in range(Nmss)]\n",
    "# y_val_wt = [[] for x in range(Nmss)]\n",
    "# y_opt_wt = [[] for x in range(Nmss)]\n",
    "# y_cov_wt = [[] for x in range(Nmss)]\n",
    "# p0 = (0.0001, 0.0001, 0.0001)\n",
    "# for imss in range(Nmss):\n",
    "#     x_val_wt[imss].append( wt_centers[imss][1:] )\n",
    "#     y_val_wt[imss].append( wt_hist[imss][1:] )\n",
    "#     tmp_opt, tmp_cov = curve_fit(exp_func, x_val_wt[imss][0], y_val_wt[imss][0],p0=p0)\n",
    "#     y_opt_wt[imss].append( tmp_opt )\n",
    "#     y_cov_wt[imss].append( tmp_cov )"
   ]
  },
  {
   "cell_type": "code",
   "execution_count": null,
   "metadata": {
    "collapsed": false
   },
   "outputs": [],
   "source": []
  },
  {
   "cell_type": "code",
   "execution_count": 33,
   "metadata": {
    "collapsed": false
   },
   "outputs": [],
   "source": [
    "# fig = plt.figure(figsize=(10,6))\n",
    "# ax = fig.add_subplot(111)\n",
    "# y_opt_vals = [[[] for x in range(Nmss)] for y in range(Nmss)]\n",
    "# for imss in range(Nmss):\n",
    "#     for jmss in range(Nmss):\n",
    "#         if imss != jmss:\n",
    "#             label = str(imss)+','+str(jmss)\n",
    "#             plt.plot(x_val[imss][jmss][0], y_val[imss][jmss][0],label=label,linewidth=3, color='k')\n",
    "#             y_opt_vals[imss][jmss].append( exp_func( x_val[imss][jmss][0], y_opt[imss][jmss][0][0], y_opt[imss][jmss][0][1], y_opt[imss][jmss][0][2] ) )\n",
    "#             plt.plot( x_val[imss][jmss][0], y_opt_vals[imss][jmss][0],label=label, linewidth=3, linestyle='--', color='r' )\n",
    "\n",
    "# plt.legend()\n",
    "# legend = plt.legend(fontsize='20',loc='upper center', bbox_to_anchor=(1.25, 1))\n",
    "# frame = legend.get_frame()\n",
    "# frame.set_linewidth('2.0')\n",
    "# ltext = legend.get_texts()\n",
    "# plt.setp(ltext, fontweight='bold')\n",
    "# plt.xlim([-200,25000])\n",
    "# plt.ylim([0,1.0])"
   ]
  },
  {
   "cell_type": "code",
   "execution_count": 34,
   "metadata": {
    "collapsed": false
   },
   "outputs": [],
   "source": [
    "# y_val_wt = np.array(y_val_wt)\n",
    "# y_opt_vals_wt = np.array(y_opt_vals_wt)"
   ]
  },
  {
   "cell_type": "code",
   "execution_count": 35,
   "metadata": {
    "collapsed": false
   },
   "outputs": [],
   "source": [
    "# ss_res_wt = [0. for x in range(Nmss)]\n",
    "# ss_tot_wt = [0. for x in range(Nmss)]\n",
    "# rsq_wt = [0. for x in range(Nmss)]\n",
    "# for imss in range(Nmss):\n",
    "#     for jmss in range(Nmss):\n",
    "#         ss_res_wt[imss] = np.sum( (y_val_wt[imss][0]-y_opt_vals_wt[imss][0])**2)\n",
    "#         ss_tot_wt[imss] = numpy.sum(( np.subtract( y_val_wt[imss][0], np.mean(y_val_wt[imss][0])) )**2)\n",
    "#         rsq_wt[imss] = 1. - ss_res_wt[imss]/ss_tot_wt[imss]"
   ]
  },
  {
   "cell_type": "code",
   "execution_count": 36,
   "metadata": {
    "collapsed": false
   },
   "outputs": [],
   "source": [
    "# fig = plt.figure(figsize=(10,6))\n",
    "# ax = fig.add_subplot(111)\n",
    "# plt.plot(rsq_wt,linewidth=3, color='k',marker='x',mew=10)\n",
    "# ax.ticklabel_format(useOffset=False)\n",
    "#plt.xticks(np.arange(len(rsq)),labels)\n",
    "#plt.legend()\n",
    "#legend = plt.legend(fontsize='20',loc='upper center', bbox_to_anchor=(1.25, 1))\n",
    "# frame = legend.get_frame()\n",
    "# frame.set_linewidth('2.0')\n",
    "# ltext = legend.get_texts()\n",
    "# plt.setp(ltext, fontweight='bold')\n",
    "#plt.xlim([-200,25000])\n",
    "#plt.ylim([0,1.0])"
   ]
  },
  {
   "cell_type": "code",
   "execution_count": 37,
   "metadata": {
    "collapsed": false
   },
   "outputs": [],
   "source": [
    "# try to calculate the diffusion constant, local D for each pair of states\n",
    "msd_avg = np.zeros(shape=(Nmss,Nmss))\n",
    "wt_avg = np.zeros(shape=(Nmss,Nmss))\n",
    "for imss in range(Nmss):\n",
    "    for jmss in range(Nmss):\n",
    "        if imss != jmss:\n",
    "            msd_avg[imss][jmss] = np.mean(msd[imss][jmss])\n",
    "            wt_avg[imss][jmss] = np.mean(wt[imss][jmss])"
   ]
  },
  {
   "cell_type": "code",
   "execution_count": 38,
   "metadata": {
    "collapsed": false
   },
   "outputs": [],
   "source": [
    "D_loc = np.zeros(shape=(Nmss,Nmss))\n",
    "for imss in range(Nmss):\n",
    "    for jmss in range(Nmss):\n",
    "        if imss != jmss:\n",
    "            D_loc[imss][jmss] = msd_avg[imss][jmss] / (6*wt_avg[imss][jmss])\n",
    "# nm / sample"
   ]
  },
  {
   "cell_type": "code",
   "execution_count": 39,
   "metadata": {
    "collapsed": false
   },
   "outputs": [],
   "source": [
    "traj = np.genfromtxt('../../dtraj_mss_concat_2states.dat').astype(int)"
   ]
  },
  {
   "cell_type": "code",
   "execution_count": 40,
   "metadata": {
    "collapsed": false
   },
   "outputs": [
    {
     "name": "stdout",
     "output_type": "stream",
     "text": [
      "[0.3026706 0.6973294]\n",
      "[0.30245474 0.69754526]\n"
     ]
    }
   ],
   "source": [
    "D = 0\n",
    "Pimss = np.zeros(Nmss)\n",
    "for imss in range(Nmss):\n",
    "    Pimss[imss] = float(np.where(traj==imss)[0].shape[0]) / float(len(traj))\n",
    "    for jmss in range(Nmss):        \n",
    "        #D += Pimss[imss]*Tmle[imss][jmss]*D_loc[imss][jmss]\n",
    "        D += mu[imss]*D_loc[imss][jmss]\n",
    "D /= (Nmss-1.)\n",
    "print Pimss\n",
    "print mu"
   ]
  },
  {
   "cell_type": "code",
   "execution_count": 41,
   "metadata": {
    "collapsed": false
   },
   "outputs": [
    {
     "data": {
      "text/plain": [
       "4.2677429442629425e-06"
      ]
     },
     "execution_count": 41,
     "metadata": {},
     "output_type": "execute_result"
    }
   ],
   "source": [
    "D"
   ]
  },
  {
   "cell_type": "code",
   "execution_count": 42,
   "metadata": {
    "collapsed": false
   },
   "outputs": [
    {
     "data": {
      "text/plain": [
       "3.706757653727292e-06"
      ]
     },
     "execution_count": 42,
     "metadata": {},
     "output_type": "execute_result"
    }
   ],
   "source": [
    "D_unif = 0\n",
    "for imss in range(Nmss):\n",
    "    for jmss in range(Nmss):      \n",
    "        D_unif += D_loc[imss][jmss]\n",
    "D_unif /= float(Nmss*Nmss - Nmss)\n",
    "D_unif"
   ]
  },
  {
   "cell_type": "code",
   "execution_count": 43,
   "metadata": {
    "collapsed": false
   },
   "outputs": [
    {
     "data": {
      "text/plain": [
       "4e-06"
      ]
     },
     "execution_count": 43,
     "metadata": {},
     "output_type": "execute_result"
    }
   ],
   "source": [
    "# cf direct from sim\n",
    "D_sim = 0.0040 * (10**(-5)) # cm^2/s\n",
    "D_sim *= 10**2 # nm^2 / sample\n",
    "D_sim"
   ]
  },
  {
   "cell_type": "code",
   "execution_count": null,
   "metadata": {
    "collapsed": false
   },
   "outputs": [],
   "source": []
  },
  {
   "cell_type": "code",
   "execution_count": null,
   "metadata": {
    "collapsed": false
   },
   "outputs": [],
   "source": []
  },
  {
   "cell_type": "code",
   "execution_count": 44,
   "metadata": {
    "collapsed": false
   },
   "outputs": [
    {
     "data": {
      "text/plain": [
       "array([[0.        , 0.004085  ],\n",
       "       [0.02080076, 0.        ]])"
      ]
     },
     "execution_count": 44,
     "metadata": {},
     "output_type": "execute_result"
    }
   ],
   "source": [
    "msd_avg"
   ]
  },
  {
   "cell_type": "code",
   "execution_count": 45,
   "metadata": {
    "collapsed": false
   },
   "outputs": [
    {
     "data": {
      "text/plain": [
       "array([[  0.        , 297.71450412],\n",
       "       [676.23010553,   0.        ]])"
      ]
     },
     "execution_count": 45,
     "metadata": {},
     "output_type": "execute_result"
    }
   ],
   "source": [
    "wt_avg"
   ]
  },
  {
   "cell_type": "code",
   "execution_count": 46,
   "metadata": {
    "collapsed": false
   },
   "outputs": [
    {
     "data": {
      "text/plain": [
       "array([[0.00000000e+00, 2.28686709e-06],\n",
       "       [5.12664822e-06, 0.00000000e+00]])"
      ]
     },
     "execution_count": 46,
     "metadata": {},
     "output_type": "execute_result"
    }
   ],
   "source": [
    "D_loc"
   ]
  },
  {
   "cell_type": "code",
   "execution_count": null,
   "metadata": {
    "collapsed": false
   },
   "outputs": [],
   "source": []
  },
  {
   "cell_type": "code",
   "execution_count": 47,
   "metadata": {
    "collapsed": false
   },
   "outputs": [],
   "source": [
    "np.savez('diff_info_avg.npz',msd_avg=msd_avg,wt_avg=wt_avg,D_loc=D_loc)"
   ]
  },
  {
   "cell_type": "code",
   "execution_count": null,
   "metadata": {
    "collapsed": false
   },
   "outputs": [],
   "source": []
  },
  {
   "cell_type": "code",
   "execution_count": null,
   "metadata": {
    "collapsed": false
   },
   "outputs": [],
   "source": []
  },
  {
   "cell_type": "code",
   "execution_count": null,
   "metadata": {
    "collapsed": false
   },
   "outputs": [],
   "source": []
  },
  {
   "cell_type": "code",
   "execution_count": null,
   "metadata": {
    "collapsed": false
   },
   "outputs": [],
   "source": []
  },
  {
   "cell_type": "code",
   "execution_count": null,
   "metadata": {
    "collapsed": false
   },
   "outputs": [],
   "source": []
  },
  {
   "cell_type": "code",
   "execution_count": null,
   "metadata": {
    "collapsed": false
   },
   "outputs": [],
   "source": []
  },
  {
   "cell_type": "code",
   "execution_count": null,
   "metadata": {
    "collapsed": false
   },
   "outputs": [],
   "source": []
  },
  {
   "cell_type": "code",
   "execution_count": null,
   "metadata": {
    "collapsed": false
   },
   "outputs": [],
   "source": []
  },
  {
   "cell_type": "code",
   "execution_count": null,
   "metadata": {
    "collapsed": false
   },
   "outputs": [],
   "source": []
  },
  {
   "cell_type": "code",
   "execution_count": null,
   "metadata": {
    "collapsed": false
   },
   "outputs": [],
   "source": []
  },
  {
   "cell_type": "code",
   "execution_count": null,
   "metadata": {
    "collapsed": false
   },
   "outputs": [],
   "source": []
  },
  {
   "cell_type": "code",
   "execution_count": null,
   "metadata": {
    "collapsed": false
   },
   "outputs": [],
   "source": []
  },
  {
   "cell_type": "code",
   "execution_count": null,
   "metadata": {
    "collapsed": false
   },
   "outputs": [],
   "source": []
  },
  {
   "cell_type": "code",
   "execution_count": null,
   "metadata": {
    "collapsed": false
   },
   "outputs": [],
   "source": []
  },
  {
   "cell_type": "code",
   "execution_count": null,
   "metadata": {
    "collapsed": false
   },
   "outputs": [],
   "source": []
  },
  {
   "cell_type": "code",
   "execution_count": null,
   "metadata": {
    "collapsed": false
   },
   "outputs": [],
   "source": []
  },
  {
   "cell_type": "code",
   "execution_count": null,
   "metadata": {
    "collapsed": false
   },
   "outputs": [],
   "source": []
  },
  {
   "cell_type": "code",
   "execution_count": null,
   "metadata": {
    "collapsed": false
   },
   "outputs": [],
   "source": []
  },
  {
   "cell_type": "code",
   "execution_count": null,
   "metadata": {
    "collapsed": false
   },
   "outputs": [],
   "source": []
  },
  {
   "cell_type": "code",
   "execution_count": null,
   "metadata": {
    "collapsed": false
   },
   "outputs": [],
   "source": []
  },
  {
   "cell_type": "code",
   "execution_count": null,
   "metadata": {
    "collapsed": false
   },
   "outputs": [],
   "source": []
  },
  {
   "cell_type": "code",
   "execution_count": null,
   "metadata": {
    "collapsed": false
   },
   "outputs": [],
   "source": []
  },
  {
   "cell_type": "code",
   "execution_count": null,
   "metadata": {
    "collapsed": false
   },
   "outputs": [],
   "source": []
  },
  {
   "cell_type": "code",
   "execution_count": null,
   "metadata": {
    "collapsed": false
   },
   "outputs": [],
   "source": []
  },
  {
   "cell_type": "code",
   "execution_count": null,
   "metadata": {
    "collapsed": false
   },
   "outputs": [],
   "source": []
  },
  {
   "cell_type": "code",
   "execution_count": null,
   "metadata": {
    "collapsed": false
   },
   "outputs": [],
   "source": []
  },
  {
   "cell_type": "code",
   "execution_count": null,
   "metadata": {
    "collapsed": false
   },
   "outputs": [],
   "source": []
  },
  {
   "cell_type": "code",
   "execution_count": null,
   "metadata": {
    "collapsed": false
   },
   "outputs": [],
   "source": []
  },
  {
   "cell_type": "code",
   "execution_count": null,
   "metadata": {
    "collapsed": false
   },
   "outputs": [],
   "source": []
  },
  {
   "cell_type": "code",
   "execution_count": null,
   "metadata": {
    "collapsed": false
   },
   "outputs": [],
   "source": []
  },
  {
   "cell_type": "code",
   "execution_count": null,
   "metadata": {
    "collapsed": false
   },
   "outputs": [],
   "source": []
  },
  {
   "cell_type": "code",
   "execution_count": null,
   "metadata": {
    "collapsed": false
   },
   "outputs": [],
   "source": []
  },
  {
   "cell_type": "code",
   "execution_count": null,
   "metadata": {
    "collapsed": true
   },
   "outputs": [],
   "source": []
  },
  {
   "cell_type": "code",
   "execution_count": null,
   "metadata": {
    "collapsed": true
   },
   "outputs": [],
   "source": []
  },
  {
   "cell_type": "code",
   "execution_count": null,
   "metadata": {
    "collapsed": true
   },
   "outputs": [],
   "source": []
  },
  {
   "cell_type": "code",
   "execution_count": null,
   "metadata": {
    "collapsed": true
   },
   "outputs": [],
   "source": []
  }
 ],
 "metadata": {
  "kernelspec": {
   "display_name": "Python 2",
   "language": "python",
   "name": "python2"
  },
  "language_info": {
   "codemirror_mode": {
    "name": "ipython",
    "version": 2
   },
   "file_extension": ".py",
   "mimetype": "text/x-python",
   "name": "python",
   "nbconvert_exporter": "python",
   "pygments_lexer": "ipython2",
   "version": "2.7.11"
  }
 },
 "nbformat": 4,
 "nbformat_minor": 0
}
